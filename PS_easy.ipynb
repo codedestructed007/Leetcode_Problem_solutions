{
  "nbformat": 4,
  "nbformat_minor": 0,
  "metadata": {
    "colab": {
      "provenance": [],
      "authorship_tag": "ABX9TyNmLQg3jD9lgjrkDiOUwKBm",
      "include_colab_link": true
    },
    "kernelspec": {
      "name": "python3",
      "display_name": "Python 3"
    },
    "language_info": {
      "name": "python"
    }
  },
  "cells": [
    {
      "cell_type": "markdown",
      "metadata": {
        "id": "view-in-github",
        "colab_type": "text"
      },
      "source": [
        "<a href=\"https://colab.research.google.com/github/codedestructed007/Problem-solving/blob/main/PS_easy.ipynb\" target=\"_parent\"><img src=\"https://colab.research.google.com/assets/colab-badge.svg\" alt=\"Open In Colab\"/></a>"
      ]
    },
    {
      "cell_type": "markdown",
      "source": [
        "1.Given an integer array nums, return true if any value appears at least twice in the array, and return false if every element is distinct."
      ],
      "metadata": {
        "id": "bgU-I4eMVCRi"
      }
    },
    {
      "cell_type": "code",
      "execution_count": 1,
      "metadata": {
        "id": "8U6gfdL4S0Q5"
      },
      "outputs": [],
      "source": [
        "class Solution(object):\n",
        "    def containsDuplicate(self, nums):\n",
        "        \"\"\"\n",
        "        :type nums: List[int]\n",
        "        :rtype: bool\n",
        "        \"\"\"\n",
        "        if len(nums) != len(list(set(nums))):\n",
        "            return True\n",
        "        return False"
      ]
    },
    {
      "cell_type": "code",
      "source": [
        "obj = Solution()\n",
        "arr = [5,3,5,6,7,8]\n",
        "obj.containsDuplicate(arr)"
      ],
      "metadata": {
        "colab": {
          "base_uri": "https://localhost:8080/"
        },
        "id": "utkdqfvHVKkM",
        "outputId": "d5eb3fe4-23f4-4f8d-ba20-6ed6169a76a2"
      },
      "execution_count": 2,
      "outputs": [
        {
          "output_type": "execute_result",
          "data": {
            "text/plain": [
              "True"
            ]
          },
          "metadata": {},
          "execution_count": 2
        }
      ]
    },
    {
      "cell_type": "markdown",
      "source": [],
      "metadata": {
        "id": "-XAJCjKSVTmX"
      }
    },
    {
      "cell_type": "markdown",
      "source": [
        "2. Given an integer array nums and an integer k, return true if there are two distinct indices i and j in the array such that nums[i] == nums[j] and abs(i - j) <= k."
      ],
      "metadata": {
        "id": "2MVWr8Jue-eE"
      }
    },
    {
      "cell_type": "code",
      "source": [
        "class Solution(object):\n",
        "    def containsNearbyDuplicate(self, nums, k):\n",
        "        \"\"\"\n",
        "        :type nums: List[int]\n",
        "        :type k: int\n",
        "        :rtype: bool\n",
        "        \"\"\"\n",
        "        dictionary = {}\n",
        "        for i, num in enumerate(nums):\n",
        "            if num in dictionary and abs(i-dictionary[num]) <= k:\n",
        "                return True\n",
        "            dictionary[num] = i\n",
        "        return False"
      ],
      "metadata": {
        "id": "8FlO4un1cL3s"
      },
      "execution_count": 11,
      "outputs": []
    },
    {
      "cell_type": "code",
      "source": [
        "obj = Solution()\n",
        "arr = [1,3,4,1,5,6]\n",
        "k = 3\n",
        "obj.containsNearbyDuplicate(arr,k)"
      ],
      "metadata": {
        "colab": {
          "base_uri": "https://localhost:8080/"
        },
        "id": "DB1LahLEfHyD",
        "outputId": "1472fb2c-b5cc-4f6a-892f-f4a99c3b6235"
      },
      "execution_count": 12,
      "outputs": [
        {
          "output_type": "execute_result",
          "data": {
            "text/plain": [
              "True"
            ]
          },
          "metadata": {},
          "execution_count": 12
        }
      ]
    },
    {
      "cell_type": "code",
      "source": [],
      "metadata": {
        "id": "dkCL4S4efQVH"
      },
      "execution_count": null,
      "outputs": []
    }
  ]
}